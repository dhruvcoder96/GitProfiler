{
 "cells": [
  {
   "cell_type": "code",
   "execution_count": 2,
   "metadata": {},
   "outputs": [
    {
     "data": {
      "text/plain": [
       "{'avatar_url': 'https://avatars2.githubusercontent.com/u/14909085?v=3',\n",
       " 'bio': 'Final year Student at NSIT(Dwarka). \\r\\nEmail: dhruvdangwal1909@gmail.com',\n",
       " 'blog': '',\n",
       " 'company': None,\n",
       " 'created_at': '2015-09-30T15:09:38Z',\n",
       " 'email': None,\n",
       " 'events_url': 'https://api.github.com/users/dhruvcoder96/events{/privacy}',\n",
       " 'followers': 3,\n",
       " 'followers_url': 'https://api.github.com/users/dhruvcoder96/followers',\n",
       " 'following': 8,\n",
       " 'following_url': 'https://api.github.com/users/dhruvcoder96/following{/other_user}',\n",
       " 'gists_url': 'https://api.github.com/users/dhruvcoder96/gists{/gist_id}',\n",
       " 'gravatar_id': '',\n",
       " 'hireable': None,\n",
       " 'html_url': 'https://github.com/dhruvcoder96',\n",
       " 'id': 14909085,\n",
       " 'location': None,\n",
       " 'login': 'dhruvcoder96',\n",
       " 'name': 'Dhruv Dangwal',\n",
       " 'organizations_url': 'https://api.github.com/users/dhruvcoder96/orgs',\n",
       " 'public_gists': 0,\n",
       " 'public_repos': 7,\n",
       " 'received_events_url': 'https://api.github.com/users/dhruvcoder96/received_events',\n",
       " 'repos_url': 'https://api.github.com/users/dhruvcoder96/repos',\n",
       " 'site_admin': False,\n",
       " 'starred_url': 'https://api.github.com/users/dhruvcoder96/starred{/owner}{/repo}',\n",
       " 'subscriptions_url': 'https://api.github.com/users/dhruvcoder96/subscriptions',\n",
       " 'type': 'User',\n",
       " 'updated_at': '2017-07-02T12:21:15Z',\n",
       " 'url': 'https://api.github.com/users/dhruvcoder96'}"
      ]
     },
     "execution_count": 2,
     "metadata": {},
     "output_type": "execute_result"
    }
   ],
   "source": [
    "import requests\n",
    "import json\n",
    "from pprint import pprint\n",
    "response = requests.get(\"https://api.github.com/users/dhruvcoder96\")\n",
    "c=response.json()\n",
    "c"
   ]
  },
  {
   "cell_type": "code",
   "execution_count": null,
   "metadata": {
    "collapsed": true
   },
   "outputs": [],
   "source": []
  },
  {
   "cell_type": "code",
   "execution_count": null,
   "metadata": {
    "collapsed": true
   },
   "outputs": [],
   "source": []
  }
 ],
 "metadata": {
  "kernelspec": {
   "display_name": "Python 3",
   "language": "python",
   "name": "python3"
  },
  "language_info": {
   "codemirror_mode": {
    "name": "ipython",
    "version": 3
   },
   "file_extension": ".py",
   "mimetype": "text/x-python",
   "name": "python",
   "nbconvert_exporter": "python",
   "pygments_lexer": "ipython3",
   "version": "3.6.1"
  }
 },
 "nbformat": 4,
 "nbformat_minor": 2
}
